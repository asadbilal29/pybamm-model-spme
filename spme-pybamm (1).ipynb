{
 "cells": [
  {
   "cell_type": "code",
   "execution_count": 5,
   "id": "67469035-e24e-48fa-8012-af2de3926d75",
   "metadata": {},
   "outputs": [],
   "source": [
    "import pybamm\n",
    "import numpy as np\n",
    "import matplotlib.pyplot as plt\n"
   ]
  },
  {
   "cell_type": "code",
   "execution_count": 6,
   "id": "b744b24c-d0fe-4584-8934-9b9189a594a0",
   "metadata": {},
   "outputs": [],
   "source": [
    "model = pybamm.lithium_ion.SPMe()\n",
    "param = model.default_parameter_values.copy()\n",
    "\n",
    "\n",
    "custom_params = {\n",
    "    \"Negative electrode thickness [m]\": 110e-6,\n",
    "    \"Positive electrode thickness [m]\": 130e-6,\n",
    "    \"Negative particle radius [m]\": 6e-6,\n",
    "    \"Positive particle radius [m]\": 10e-6,\n",
    "    \"Electrolyte conductivity [S.m-1]\": 1.6,\n",
    "    \"Ambient temperature [K]\": 315,  # ~42°C\n",
    "}\n",
    "param.update(custom_params)\n",
    "\n",
    "\n"
   ]
  },
  {
   "cell_type": "code",
   "execution_count": 7,
   "id": "a52de3b0-6f1e-40b3-8fce-8fbf00f45d54",
   "metadata": {},
   "outputs": [],
   "source": [
    "experiment = pybamm.Experiment([\n",
    "    \"Discharge at 2C until 3.0V\",\n",
    "    \"Rest for 15 minutes\",\n",
    "    \"Charge at 1C until 4.2V\",\n",
    "    \"Hold at 4.2V until C/20\",\n",
    "    \"Rest for 10 minutes\"\n",
    "], period=\"1 minute\")\n"
   ]
  },
  {
   "cell_type": "code",
   "execution_count": 4,
   "id": "fe314e05-1232-4564-b776-ef6045674988",
   "metadata": {},
   "outputs": [
    {
     "name": "stderr",
     "output_type": "stream",
     "text": [
      "C:\\Users\\Mohammed Asad Bilal\\anaconda3\\Lib\\site-packages\\pybamm\\simulation.py:120: UserWarning: The default solver changed to IDAKLUSolver after the v25.4.0. release. You can swap back to the previous default by using `pybamm.CasadiSolver()` instead.\n",
      "  self._solver = solver or self._model.default_solver\n"
     ]
    },
    {
     "data": {
      "application/vnd.jupyter.widget-view+json": {
       "model_id": "672ad073f99346c09b27f8b05a136393",
       "version_major": 2,
       "version_minor": 0
      },
      "text/plain": [
       "interactive(children=(FloatSlider(value=0.0, description='t', max=2.7705769345936964, step=0.02770576934593696…"
      ]
     },
     "metadata": {},
     "output_type": "display_data"
    },
    {
     "data": {
      "text/plain": [
       "<pybamm.plotting.quick_plot.QuickPlot at 0x1c476470590>"
      ]
     },
     "execution_count": 4,
     "metadata": {},
     "output_type": "execute_result"
    }
   ],
   "source": [
    "sim = pybamm.Simulation(model, parameter_values=param, experiment=experiment)\n",
    "sim.solve()\n",
    "sim.plot()\n"
   ]
  },
  {
   "cell_type": "code",
   "execution_count": null,
   "id": "988f6c79-a7a5-4ce1-9e90-b05a16d7c3f7",
   "metadata": {},
   "outputs": [],
   "source": []
  }
 ],
 "metadata": {
  "kernelspec": {
   "display_name": "Python 3 (ipykernel)",
   "language": "python",
   "name": "python3"
  },
  "language_info": {
   "codemirror_mode": {
    "name": "ipython",
    "version": 3
   },
   "file_extension": ".py",
   "mimetype": "text/x-python",
   "name": "python",
   "nbconvert_exporter": "python",
   "pygments_lexer": "ipython3",
   "version": "3.12.3"
  }
 },
 "nbformat": 4,
 "nbformat_minor": 5
}
